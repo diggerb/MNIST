{
 "cells": [
  {
   "cell_type": "markdown",
   "metadata": {},
   "source": [
    "# MNIST - A Exploration in to Data Analysis\n",
    "\n",
    "## 1 - Introduction\n",
    "\n",
    "This is monologue of my progress through this project.\n",
    "\n",
    "MNIST is the Hello World of neural networks. My aim is to learn as much as possible about neural networks and other data analysis methods by analysing this dataset as well as learning how to best use the features of the high level programming language Python.\n",
    "\n",
    "My approach to this problem will be through the following steps:\n",
    "1. Understand the raw data\n",
    "2. Consider different potential solutions to the problem\n",
    "3. Pick a model\n",
    "4. Process the raw data so it is in a suitable form for the algorithms to work\n",
    "5. Fit/train a model\n",
    "6. Analyse the model and try to find improvements\n",
    "\n",
    "### 1.1 - Understanding the Raw Data\n",
    "\n",
    "The data are in csv files. Each file has 785 columns. For the training data, the first column is the label, that is the digit drawn by the user. The remaining 784 columns make up the images. The images are 28x28 pixels in size and each row represents one whole image. Consequently each image is of relatively low quality and is in greyscale. The testing data is identical but with the label column omitted, hence there are only 784 columns in this file.\n",
    "\n",
    "The images can be reconstructed by taking the first 28 cells as the first row of pixels of the image. The subsequent 28 cells make up the second row of pixels of the image etc.\n",
    "\n",
    "The submission file must have the following format:\n",
    "```\n",
    "ImageId,Label\n",
    "1,0\n",
    "2,0\n",
    "3,0\n",
    "etc.\n",
    "```\n",
    "\n",
    "### 1.2 - Potential Solutions\n",
    "\n",
    "One popular solution is to use a neural network to classify the digits. This is something I will explore using Tensorflow. If this is successful I may then look to improve this training process with regards to speed and efficiency by training the model in C/C++ on my GPU.\n",
    "\n",
    "This problem would also lend itself well to using some sort of clustering algorithm. Further research and implentation in to k-means clustering algorithms and the algorithms I have learned at university will be considered.\n",
    "\n",
    "A classification regression tree may also work here.\n",
    "\n",
    "Finally I am aware of support-vector machines. I am not entirely sure what these are hence more research is required, but that is another method that should be explored.\n",
    "\n",
    "## 2 - Neural Network Model\n",
    "\n",
    "### 2.0 - Introduction\n",
    "\n",
    "The neural network model requires an initial layer with one node per pixel. In this case, that is 28^2 input nodes. The output layer requires as many nodes as there are classes. This final layer usually uses a softmax activation function on each of the nodes. This converts each of the nodes to a value between 0 and 1 such that the sum of all the values sums to 1. This means the output can be interpreted as a probability of the image beloging to each particular class.\n",
    "\n",
    "The difficult part of neural networks is filling in the hidden layers. A single layer NN is only capable of handling linearly separable classes. Adding extra layers allows for more complex class structure. And nodes without an activation function are only capable of linear regression. Hence different activation functions are used they all behave different during training. Hidden layers will often use the rectified linear unit (ReLU) activation function on each node. This is a very natural interpretation of a neuron. Deeper networks and other special layers, such as convolutional layers, are another method to allow for a model to detect different features. \n",
    "\n",
    "The aim here is to learn how these layers can be combined to create a good model and this shall be done through hands on experimentation and through research.\n",
    "\n",
    "### 2.1 - Preprocess the Data"
   ]
  },
  {
   "cell_type": "code",
   "execution_count": 2,
   "metadata": {},
   "outputs": [],
   "source": [
    "# For the matplotlib to run well in jupyter notebook\n",
    "%matplotlib inline\n",
    "\n",
    "import numpy as np # For linear algebra\n",
    "import pandas as pd # For data structures and easy file handling\n",
    "import matplotlib.pyplot as plt # For plotting graphs easily\n",
    "import tensorflow as tf # For neural networks using Keras"
   ]
  },
  {
   "cell_type": "markdown",
   "metadata": {},
   "source": [
    "I shall now read the train and test data files."
   ]
  },
  {
   "cell_type": "code",
   "execution_count": 3,
   "metadata": {},
   "outputs": [
    {
     "name": "stdout",
     "output_type": "stream",
     "text": [
      "<class 'pandas.core.frame.DataFrame'>\n",
      "   label  pixel0  pixel1  pixel2  pixel3  pixel4  pixel5  pixel6  pixel7  \\\n",
      "0      1       0       0       0       0       0       0       0       0   \n",
      "1      0       0       0       0       0       0       0       0       0   \n",
      "2      1       0       0       0       0       0       0       0       0   \n",
      "3      4       0       0       0       0       0       0       0       0   \n",
      "4      0       0       0       0       0       0       0       0       0   \n",
      "\n",
      "   pixel8  ...  pixel774  pixel775  pixel776  pixel777  pixel778  pixel779  \\\n",
      "0       0  ...         0         0         0         0         0         0   \n",
      "1       0  ...         0         0         0         0         0         0   \n",
      "2       0  ...         0         0         0         0         0         0   \n",
      "3       0  ...         0         0         0         0         0         0   \n",
      "4       0  ...         0         0         0         0         0         0   \n",
      "\n",
      "   pixel780  pixel781  pixel782  pixel783  \n",
      "0         0         0         0         0  \n",
      "1         0         0         0         0  \n",
      "2         0         0         0         0  \n",
      "3         0         0         0         0  \n",
      "4         0         0         0         0  \n",
      "\n",
      "[5 rows x 785 columns]\n",
      "Training dimensions (42000, 785)\n",
      "Testing dimensions (28000, 784)\n"
     ]
    }
   ],
   "source": [
    "raw_data_train = pd.read_csv('data/train.csv')\n",
    "raw_data_test = pd.read_csv('data/test.csv')\n",
    "\n",
    "print(type(raw_data_test))\n",
    "\n",
    "print(raw_data_train.head())\n",
    "\n",
    "print('Training dimensions', raw_data_train.shape)\n",
    "print('Testing dimensions', raw_data_test.shape)"
   ]
  },
  {
   "cell_type": "markdown",
   "metadata": {},
   "source": [
    "Evidently the train dataset has 42000 rows and the test dataset has 28000 rows. So there is plenty of data to be working with!\n",
    "\n",
    "First, I need to preprocess the data so it is in a usuable form. The block below coverts the raw data stored as pd.DataFrames and converts it to np.arrays. This can be thought of as reconstructing the original image. This will be flattened after any convolutional layers (if present) in the neural network model anyway (sending it back to a 1D vector)."
   ]
  },
  {
   "cell_type": "code",
   "execution_count": 4,
   "metadata": {},
   "outputs": [],
   "source": [
    "img_rows, img_cols = 28, 28\n",
    "num_classes = 10\n",
    "\n",
    "def prep_raw_data(raw_data):\n",
    "    \"\"\"Splits the training data in to training and validation datasets.\n",
    "    \"\"\"\n",
    "    y = raw_data.label.values\n",
    "    out_y = tf.keras.utils.to_categorical(y=y, num_classes=num_classes)\n",
    "    x = raw_data.values[:, 1:]\n",
    "    return out_y, reshape_data(x)\n",
    "\n",
    "def reshape_data(array):\n",
    "    \"\"\"Returns n x 28 x 28 numpy array that has been standardised.\n",
    "    \"\"\"\n",
    "    if isinstance(array, pd.DataFrame):\n",
    "        #assume array is the testing data and convert it to a numpy array\n",
    "        array = array.values[:,:]\n",
    "        \n",
    "    return array.reshape(array.shape[0], 28, 28)/255\n",
    "\n",
    "y_train, x_train = prep_raw_data(raw_data_train)\n",
    "x_test = reshape_data(raw_data_test)"
   ]
  },
  {
   "cell_type": "markdown",
   "metadata": {},
   "source": [
    "Just to show that the preprocessing has worked, here is a plot of a data point."
   ]
  },
  {
   "cell_type": "code",
   "execution_count": 5,
   "metadata": {},
   "outputs": [
    {
     "data": {
      "image/png": "[encoded data removed]",
      "text/plain": [
       "<Figure size 432x288 with 2 Axes>"
      ]
     },
     "metadata": {
      "needs_background": "light"
     },
     "output_type": "display_data"
    }
   ],
   "source": [
    "plt.figure()\n",
    "plt.imshow(x_train[123])\n",
    "plt.colorbar()\n",
    "plt.grid(False)\n",
    "plt.show()"
   ]
  },
  {
   "cell_type": "markdown",
   "metadata": {},
   "source": [
    "### 2.2 - First Model\n",
    "\n",
    "Here I shall bulid a model starting with a very basic architecture and try to improve the model iteratively by adding different layer types and combinations.\n",
    "\n",
    "First I will start with a hidden layer with 100 nodes and ReLU as the activation function. To compile to model I will just use stochastic gradient descent (SGD) at first and I shall explore other algorithms some other time. [Click here](https://www.tensorflow.org/api_docs/python/tf/keras/optimizers) to view the optimiser algorithms built in to TF. These will be explored in depth later. I shall set the loss function to categorical crossentropy. The meaning of this and alternative loss functions are explored in a later section, for now just take this as given. The metric is added to simply show the accuracy during training, it is not required. Other metrics are also explored in a later section."
   ]
  },
  {
   "cell_type": "code",
   "execution_count": 6,
   "metadata": {},
   "outputs": [
    {
     "name": "stdout",
     "output_type": "stream",
     "text": [
      "Train on 42000 samples\n",
      "42000/42000 [==============================] - 4s 89us/sample - loss: 0.7325 - accuracy: 0.8154\n"
     ]
    }
   ],
   "source": [
    "basic_model_1 = tf.keras.models.Sequential()\n",
    "basic_model_1.add(tf.keras.layers.Flatten())\n",
    "basic_model_1.add(tf.keras.layers.Dense(100, activation = 'relu'))\n",
    "basic_model_1.add(tf.keras.layers.Dense(num_classes, activation = 'softmax'))\n",
    "\n",
    "basic_model_1.compile(optimizer = 'SGD', \n",
    "                    loss = tf.keras.losses.categorical_crossentropy,\n",
    "                    metrics = ['accuracy'])\n",
    "\n",
    "basic_model_1.fit(x = x_train, y = y_train)\n",
    "\n",
    "predictions_1 = np.argmax(basic_model_1.predict(x = x_test), axis = 1)"
   ]
  },
  {
   "cell_type": "code",
   "execution_count": 7,
   "metadata": {},
   "outputs": [],
   "source": [
    "output = pd.DataFrame({'ImageId': range(1,28001), 'Label': predictions_1})\n",
    "output.to_csv('Submissions.csv', index = False)"
   ]
  },
  {
   "cell_type": "markdown",
   "metadata": {},
   "source": [
    "According to kaggle, this model achieved a 88.5% accuracy! Not bad. However this puts me 2906th of 3180 submissions... that's the 92nd percentile (at the time of writing, June 2020). \n",
    "\n",
    "The next step is to explore methods that will improve the accuracy of results. I should also change the way I check my accuracy of my models as uploading to Kaggle every time is slow.\n",
    "\n",
    "To do this I will split the training data in to a training and validation set. I can hard code this by physically splitting the data or I can use `validation_split = 0.2` to let TF decide which data points should be set aside for validation during the fit. See below: "
   ]
  },
  {
   "cell_type": "code",
   "execution_count": 8,
   "metadata": {},
   "outputs": [
    {
     "name": "stdout",
     "output_type": "stream",
     "text": [
      "Train on 33600 samples, validate on 8400 samples\n",
      "33600/33600 [==============================] - 3s 91us/sample - loss: 0.8311 - accuracy: 0.7956 - val_loss: 0.4500 - val_accuracy: 0.8835\n"
     ]
    },
    {
     "data": {
      "text/plain": [
       "<tensorflow.python.keras.callbacks.History at 0x7f2e5d9cc048>"
      ]
     },
     "execution_count": 8,
     "metadata": {},
     "output_type": "execute_result"
    }
   ],
   "source": [
    "basic_model_2 = tf.keras.models.Sequential()\n",
    "basic_model_2.add(tf.keras.layers.Flatten())\n",
    "basic_model_2.add(tf.keras.layers.Dense(100, activation = 'relu'))\n",
    "basic_model_2.add(tf.keras.layers.Dense(num_classes, activation = 'softmax'))\n",
    "\n",
    "basic_model_2.compile(optimizer = 'SGD', \n",
    "                    loss = tf.keras.losses.categorical_crossentropy,\n",
    "                    metrics = ['accuracy'])\n",
    "\n",
    "basic_model_2.fit(x = x_train, \n",
    "                y = y_train,\n",
    "                validation_split = 0.2)"
   ]
  },
  {
   "cell_type": "markdown",
   "metadata": {},
   "source": [
    "The validation accuracy can now be seen from the output above. This value changes everytime the code is run as different parts of the data are reserved each time for the validation.\n",
    "\n",
    "Now would be a good time to infer each of the output terms above. \n",
    "- `loss:` refers to the loss function defined during compiling. This is a cumulative reading that updates as the model trains. It is not recalculated constantly, just updated with each new piece of information. As such it should not be interpeted as an estimate of the loss of the model but can used to see how the loss function is changing as the model trains. Lower is better and shall explored further in a subsequent section.\n",
    "- `accuracy:` is the proportion of correct classifications by the model. Again, this is a cumulative reading and is not updated each time the model is trained. Hence it is simply used to see how the model accuracy is changing as the model trains.\n",
    "- `val_loss:` is the loss function as above but calculated on the validation set the TF sets aside. This is a good representation of the suitability of the trained model.\n",
    "- `val_accuracy:` refers to the proportion of correct classifications in the validation training set. This is a good estimate of the final model accuracy.\n",
    "\n",
    "### 2.3 - Important Features of Neural Networks\n",
    "\n",
    "Topics that are explored in this section include:\n",
    "- Activation functions\n",
    "- Optimisation Methods\n",
    "- Learning rate\n",
    "- Momentum???\n",
    "- Loss Functions\n",
    "- Epochs\n",
    "- Batch sizes\n",
    "- Node count per layer\n",
    "- Number of layers\n",
    "- Dropout\n",
    "- Different types of layers\n",
    "- Convolutional Layers\n",
    "- Stride length\n",
    "- Data Augmentation (not really applicable here)\n",
    "\n",
    "#### 2.3.1 - Activation Functions\n",
    "\n",
    "There are many different activation functions. The most popular are explained below including when each one should be used.\n",
    "\n",
    "##### 2.3.1.1 - Heaviside Step Function\n",
    "\n",
    "Also known as the Binary Step Function, this is define as follows:\n",
    "\n",
    "$$H(x) := \\frac{d}{dx}\\max\\{x,0\\}$$\n"
   ]
  },
  {
   "cell_type": "code",
   "execution_count": 9,
   "metadata": {},
   "outputs": [
    {
     "data": {
      "image/png": "[encoded data removed]",
      "text/plain": [
       "<Figure size 432x288 with 1 Axes>"
      ]
     },
     "metadata": {
      "needs_background": "light"
     },
     "output_type": "display_data"
    }
   ],
   "source": [
    "plt.figure()\n",
    "plt.plot(np.linspace(-3,3, 100), np.heaviside(np.linspace(-3,3, 100), 0.5))\n",
    "plt.show()"
   ]
  },
  {
   "cell_type": "markdown",
   "metadata": {},
   "source": [
    "The step need not occur at 0, it could be somewhere else. However this function isn't useful if there are more than two classes. Also, $\\frac{dH}{dx}=0$ everywhere so there is no back propogation required to update any prior weights.\n",
    "\n",
    "##### 2.3.1.2 - Linear Function\n",
    "\n",
    "$y=ax$ for some $a$. This is better as the gradient is non-zero however the gradient is constant meaning the weights all change at the same rate. This is not good.\n",
    "\n",
    "##### 2.3.1.3 - Sigmoid Function\n",
    "\n",
    "$$f(x)=\\frac{1}{1+e^{-x}}$$"
   ]
  },
  {
   "cell_type": "code",
   "execution_count": 19,
   "metadata": {},
   "outputs": [
    {
     "data": {
      "image/png": "[encoded data removed]",
      "text/plain": [
       "<Figure size 432x288 with 1 Axes>"
      ]
     },
     "metadata": {
      "needs_background": "light"
     },
     "output_type": "display_data"
    }
   ],
   "source": [
    "plt.figure()\n",
    "plt.plot(np.linspace(-5, 5, 100), 1/(1+np.exp(-1*np.linspace(-5, 5, 100))))\n",
    "plt.hlines([0,0.5,1], -5, 5, linestyles='dashed')\n",
    "plt.margins(0)\n",
    "plt.show()"
   ]
  },
  {
   "cell_type": "markdown",
   "metadata": {},
   "source": [
    "This is one of the most widely used non-linear activation functions. Importantly, the function is continuously differentiable such that $f'(x)=1-f(x)$. However the gradient is only really significant for values in $(-3,3)$. Outside of this interval the network isn't really learning. Furthermore the sigmoid function has range $(0,1)$ so the output is always positive. This is a little restrictive and is addressed with the hyperbolic tangent function.\n",
    "\n",
    "##### 2.3.1.4 - Hyperbolic Tangent Function (Tanh)\n",
    "\n",
    "$$\n",
    "\\begin{align}\n",
    "\\tanh(x) & =2\\text{sigmoid}(2x)-1 \\\\\n",
    "           & =\\frac{2}{(1+e^{-2x})-1}\n",
    "\\end{align}           \n",
    "$$"
   ]
  },
  {
   "cell_type": "code",
   "execution_count": 21,
   "metadata": {},
   "outputs": [
    {
     "data": {
      "image/png": "[encoded data removed]",
      "text/plain": [
       "<Figure size 432x288 with 1 Axes>"
      ]
     },
     "metadata": {
      "needs_background": "light"
     },
     "output_type": "display_data"
    }
   ],
   "source": [
    "plt.figure()\n",
    "plt.plot(np.linspace(-5, 5, 150), np.tanh(np.linspace(-5, 5, 150)))\n",
    "plt.hlines([-1,0,1], -5, 5, linestyles='dashed')\n",
    "plt.margins(0)\n",
    "plt.show()"
   ]
  },
  {
   "cell_type": "markdown",
   "metadata": {},
   "source": []
  },
  {
   "cell_type": "code",
   "execution_count": null,
   "metadata": {},
   "outputs": [],
   "source": []
  },
  {
   "cell_type": "code",
   "execution_count": null,
   "metadata": {},
   "outputs": [],
   "source": []
  },
  {
   "cell_type": "code",
   "execution_count": null,
   "metadata": {},
   "outputs": [],
   "source": []
  }
 ],
 "metadata": {
  "kernelspec": {
   "display_name": "Python 3",
   "language": "python",
   "name": "python3"
  },
  "language_info": {
   "codemirror_mode": {
    "name": "ipython",
    "version": 3
   },
   "file_extension": ".py",
   "mimetype": "text/x-python",
   "name": "python",
   "nbconvert_exporter": "python",
   "pygments_lexer": "ipython3",
   "version": "3.6.9"
  }
 },
 "nbformat": 4,
 "nbformat_minor": 2
}
